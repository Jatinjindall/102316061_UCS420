{
  "cells": [
    {
      "cell_type": "markdown",
      "metadata": {
        "id": "5GFOwYa1oHOq"
      },
      "source": [
        "**Assignment 4 CC By Jatin Jindal(102316061)**"
      ]
    },
    {
      "cell_type": "markdown",
      "metadata": {
        "id": "1dbCPzCkoHOr"
      },
      "source": [
        "Ques 1.Write a program to create a NumPy 1D-array with 5 elements and perform basic\n",
        "operations like:\n",
        "1. Addition of 2 in all the element\n",
        "2. Multiply 3 with all the elements\n",
        "3. Divide every element by 2"
      ]
    },
    {
      "cell_type": "code",
      "execution_count": null,
      "metadata": {
        "colab": {
          "base_uri": "https://localhost:8080/"
        },
        "id": "cYT43TJLoHOs",
        "outputId": "c7552136-fd4f-4de8-ee8a-015eff0bc69f"
      },
      "outputs": [
        {
          "output_type": "stream",
          "name": "stdout",
          "text": [
            "Original Array: [1 2 3 4 5]\n",
            "After adding 2: [3 4 5 6 7]\n",
            "After multiplying by 3: [ 3  6  9 12 15]\n",
            "After dividing by 2: [0.5 1.  1.5 2.  2.5]\n"
          ]
        }
      ],
      "source": [
        "import numpy as np\n",
        "\n",
        "# Create a 1D array with 5 elements\n",
        "arr = np.array([1, 2, 3, 4, 5])\n",
        "\n",
        "# a) Add 2 to all the elements\n",
        "arr_add = arr + 2\n",
        "\n",
        "# b) Multiply 3 with all the elements\n",
        "arr_mul = arr * 3\n",
        "\n",
        "# c) Divide every element by 2\n",
        "arr_div = arr / 2\n",
        "\n",
        "# Output the results\n",
        "print(\"Original Array:\", arr)\n",
        "print(\"After adding 2:\", arr_add)\n",
        "print(\"After multiplying by 3:\", arr_mul)\n",
        "print(\"After dividing by 2:\", arr_div)\n"
      ]
    },
    {
      "cell_type": "markdown",
      "metadata": {
        "id": "FnXaHf78oHOu"
      },
      "source": [
        "Ques 2.Questions on Basic NumPy Array: <br>\n",
        "a. Reverse the NumPy array: arr = np.array([1, 2, 3, 6, 4, 5]) <br>\n",
        "b. Find the most frequent value and their indice(s) in the following arrays: <br>\n",
        "    i. x = np.array([1,2,3,4,5,1,2,1,1,1])  <br>\n",
        "    ii. y = np.array([1, 1, 1, 2, 3, 4, 2, 4, 3, 3, ])"
      ]
    },
    {
      "cell_type": "code",
      "execution_count": null,
      "metadata": {
        "colab": {
          "base_uri": "https://localhost:8080/"
        },
        "id": "mb3VD_fKoHOu",
        "outputId": "77e52e4e-7dd9-4c1d-b953-ab9f8cc3a8f9"
      },
      "outputs": [
        {
          "output_type": "stream",
          "name": "stdout",
          "text": [
            "Reversed Array: [5 4 6 3 2 1]\n",
            "Most frequent value in x: 1 at indices: [0 5 7 8 9]\n",
            "Most frequent value in y: 1 at indices: [0 1 2]\n"
          ]
        }
      ],
      "source": [
        "import numpy as np\n",
        "from scipy import stats\n",
        "\n",
        "# Part (a): Reverse the NumPy array\n",
        "arr = np.array([1, 2, 3, 6, 4, 5])\n",
        "\n",
        "# Reverse the array\n",
        "arr_reversed = arr[::-1]\n",
        "\n",
        "# Part (b): Find the most frequent value and their indices in the arrays\n",
        "x = np.array([1, 2, 3, 4, 5, 1, 2, 1, 1, 1])\n",
        "y = np.array([1, 1, 1, 2, 3, 4, 2, 4, 3, 3])\n",
        "\n",
        "# i. For array x\n",
        "mode_x = stats.mode(x)  # This returns a ModeResult object\n",
        "# Check if mode_x.mode is a scalar (directly use it if it is)\n",
        "indices_x = np.where(x == mode_x.mode)[0]\n",
        "\n",
        "# ii. For array y\n",
        "mode_y = stats.mode(y)  # This returns a ModeResult object\n",
        "# Check if mode_y.mode is a scalar (directly use it if it is)\n",
        "indices_y = np.where(y == mode_y.mode)[0]\n",
        "\n",
        "# Output the results\n",
        "print(\"Reversed Array:\", arr_reversed)\n",
        "print(f\"Most frequent value in x: {mode_x.mode} at indices: {indices_x}\")\n",
        "print(f\"Most frequent value in y: {mode_y.mode} at indices: {indices_y}\")\n"
      ]
    },
    {
      "cell_type": "markdown",
      "metadata": {
        "id": "W103H3KqoHOv"
      },
      "source": [
        "Ques 3.For the given 2-D array arr=np.array([10, 20, 30], [40, 50, 60], [70, 80, 90]), access\n",
        "elements using row and column indices as follows:\n",
        "1. Access 1st row, 2nd column\n",
        "2. Access 3rd row, 1st column"
      ]
    },
    {
      "cell_type": "code",
      "execution_count": null,
      "metadata": {
        "colab": {
          "base_uri": "https://localhost:8080/"
        },
        "id": "B4O93hDaoHOv",
        "outputId": "a0398bf7-dd8b-4471-aa8c-301962884d89"
      },
      "outputs": [
        {
          "output_type": "stream",
          "name": "stdout",
          "text": [
            "1st row, 2nd column: 20\n",
            "3rd row, 1st column: 70\n"
          ]
        }
      ],
      "source": [
        "# 2D Array\n",
        "arr_2d = np.array([[10, 20, 30], [40, 50, 60], [70, 80, 90]])\n",
        "\n",
        "# a) Access 1st row, 2nd column\n",
        "element_1 = arr_2d[0, 1]\n",
        "\n",
        "# b) Access 3rd row, 1st column\n",
        "element_2 = arr_2d[2, 0]\n",
        "\n",
        "print(\"1st row, 2nd column:\", element_1)\n",
        "print(\"3rd row, 1st column:\", element_2)\n"
      ]
    },
    {
      "cell_type": "markdown",
      "metadata": {
        "id": "3daF9YMpoHOv"
      },
      "source": [
        "Ques4. Write program to create an 1-D NumPy array named _Your Name_ with evenly\n",
        "spaced 25 numbers from 10 to 100 using linspace().\n",
        "- Print the dimensions of the array, shape, total elements, the data type of each element and total number of bytes consumed\n",
        "by the array.\n",
        "- Find the transpose of this array using reshape() attribute. Can we do the same\n",
        "with T attribute?"
      ]
    },
    {
      "cell_type": "code",
      "execution_count": null,
      "metadata": {
        "colab": {
          "base_uri": "https://localhost:8080/"
        },
        "id": "Lyao6_1woHOv",
        "outputId": "a861de9c-663a-4f38-93c1-ed0f42b2cfde"
      },
      "outputs": [
        {
          "output_type": "stream",
          "name": "stdout",
          "text": [
            "Array: [ 10.    13.75  17.5   21.25  25.    28.75  32.5   36.25  40.    43.75\n",
            "  47.5   51.25  55.    58.75  62.5   66.25  70.    73.75  77.5   81.25\n",
            "  85.    88.75  92.5   96.25 100.  ]\n",
            "Dimensions: 1\n",
            "Shape: (25,)\n",
            "Total Elements: 25\n",
            "Data Type: float64\n",
            "Total Bytes: 200\n",
            "Transpose using reshape(): [[ 10.  ]\n",
            " [ 13.75]\n",
            " [ 17.5 ]\n",
            " [ 21.25]\n",
            " [ 25.  ]\n",
            " [ 28.75]\n",
            " [ 32.5 ]\n",
            " [ 36.25]\n",
            " [ 40.  ]\n",
            " [ 43.75]\n",
            " [ 47.5 ]\n",
            " [ 51.25]\n",
            " [ 55.  ]\n",
            " [ 58.75]\n",
            " [ 62.5 ]\n",
            " [ 66.25]\n",
            " [ 70.  ]\n",
            " [ 73.75]\n",
            " [ 77.5 ]\n",
            " [ 81.25]\n",
            " [ 85.  ]\n",
            " [ 88.75]\n",
            " [ 92.5 ]\n",
            " [ 96.25]\n",
            " [100.  ]]\n",
            "Transpose using T attribute: [ 10.    13.75  17.5   21.25  25.    28.75  32.5   36.25  40.    43.75\n",
            "  47.5   51.25  55.    58.75  62.5   66.25  70.    73.75  77.5   81.25\n",
            "  85.    88.75  92.5   96.25 100.  ]\n"
          ]
        }
      ],
      "source": [
        "# Create an array with 25 numbers from 10 to 100\n",
        "arr_name = np.linspace(10, 100, 25)\n",
        "\n",
        "# Print properties\n",
        "print(\"Array:\", arr_name)\n",
        "print(\"Dimensions:\", arr_name.ndim)\n",
        "print(\"Shape:\", arr_name.shape)\n",
        "print(\"Total Elements:\", arr_name.size)\n",
        "print(\"Data Type:\", arr_name.dtype)\n",
        "print(\"Total Bytes:\", arr_name.nbytes)\n",
        "\n",
        "# Transpose using reshape()\n",
        "arr_transpose = arr_name.reshape(25, 1)\n",
        "\n",
        "# Using T attribute for transpose\n",
        "arr_transpose_t = arr_name.T\n",
        "\n",
        "print(\"Transpose using reshape():\", arr_transpose)\n",
        "print(\"Transpose using T attribute:\", arr_transpose_t)\n"
      ]
    },
    {
      "cell_type": "markdown",
      "metadata": {
        "id": "gA9PxeuJoHOw"
      },
      "source": [
        "Ques 5. Create a 2-D Array of three rows and four columns, named _ucs420<< yourname >>_ with following values – 10, 20, 30, 40, 50, 60, 70, 80, 90, 15, 20, 35. <br>Compute the mean,\n",
        "median, max, min, unique elements. Reshape the array to four rows and three columns and\n",
        "name it as reshaped _ucs420<< your_name >>_. Resize the array to two rows and three\n",
        "columns and name it as resized _ucs420<< your_name >>_."
      ]
    },
    {
      "cell_type": "code",
      "execution_count": null,
      "metadata": {
        "colab": {
          "base_uri": "https://localhost:8080/"
        },
        "id": "bAkX56HEoHOw",
        "outputId": "7c1bc9ed-8820-484e-c88a-b09d49f250fc"
      },
      "outputs": [
        {
          "output_type": "stream",
          "name": "stdout",
          "text": [
            "Original Array (ucs420_jatin):\n",
            " [[10 20 30 40]\n",
            " [50 60 70 80]\n",
            " [90 15 20 35]]\n",
            "\n",
            "Mean: 43.333333333333336\n",
            "Median: 37.5\n",
            "Max: 90\n",
            "Min: 10\n",
            "Unique Elements: [10 15 20 30 35 40 50 60 70 80 90]\n",
            "\n",
            "Reshaped Array (4 rows, 3 columns):\n",
            " [[10 20 30]\n",
            " [40 50 60]\n",
            " [70 80 90]\n",
            " [15 20 35]]\n",
            "\n",
            "Resized Array (2 rows, 3 columns):\n",
            " [[10 20 30]\n",
            " [40 50 60]]\n"
          ]
        }
      ],
      "source": [
        "import numpy as np\n",
        "\n",
        "# Create a 2-D array named _ucs420_jatin with 3 rows and 4 columns\n",
        "ucs420_jatin = np.array([[10, 20, 30, 40],\n",
        "                         [50, 60, 70, 80],\n",
        "                         [90, 15, 20, 35]])\n",
        "\n",
        "# Compute the mean, median, max, min, unique elements\n",
        "mean_val = np.mean(ucs420_jatin)\n",
        "median_val = np.median(ucs420_jatin)\n",
        "max_val = np.max(ucs420_jatin)\n",
        "min_val = np.min(ucs420_jatin)\n",
        "unique_elements = np.unique(ucs420_jatin)\n",
        "\n",
        "# Reshape the array to 4 rows and 3 columns\n",
        "reshaped_ucs420_jatin = ucs420_jatin.reshape(4, 3)\n",
        "\n",
        "# Resize the array to 2 rows and 3 columns using np.resize() (this returns a new array)\n",
        "resized_ucs420_jatin = np.resize(ucs420_jatin, (2, 3))\n",
        "\n",
        "# Print results\n",
        "print(\"Original Array (ucs420_jatin):\\n\", ucs420_jatin)\n",
        "print(\"\\nMean:\", mean_val)\n",
        "print(\"Median:\", median_val)\n",
        "print(\"Max:\", max_val)\n",
        "print(\"Min:\", min_val)\n",
        "print(\"Unique Elements:\", unique_elements)\n",
        "\n",
        "print(\"\\nReshaped Array (4 rows, 3 columns):\\n\", reshaped_ucs420_jatin)\n",
        "print(\"\\nResized Array (2 rows, 3 columns):\\n\", resized_ucs420_jatin)\n"
      ]
    }
  ],
  "metadata": {
    "kernelspec": {
      "display_name": "Python 3",
      "language": "python",
      "name": "python3"
    },
    "language_info": {
      "codemirror_mode": {
        "name": "ipython",
        "version": 3
      },
      "file_extension": ".py",
      "mimetype": "text/x-python",
      "name": "python",
      "nbconvert_exporter": "python",
      "pygments_lexer": "ipython3",
      "version": "3.13.1"
    },
    "colab": {
      "provenance": []
    }
  },
  "nbformat": 4,
  "nbformat_minor": 0
}