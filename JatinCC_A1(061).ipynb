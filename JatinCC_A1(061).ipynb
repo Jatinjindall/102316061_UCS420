{
  "nbformat": 4,
  "nbformat_minor": 0,
  "metadata": {
    "colab": {
      "provenance": [],
      "authorship_tag": "ABX9TyONQ7zGDD+trbTEBryDAwmh",
      "include_colab_link": true
    },
    "kernelspec": {
      "name": "python3",
      "display_name": "Python 3"
    },
    "language_info": {
      "name": "python"
    }
  },
  "cells": [
    {
      "cell_type": "markdown",
      "metadata": {
        "id": "view-in-github",
        "colab_type": "text"
      },
      "source": [
        "<a href=\"https://colab.research.google.com/github/Jatinjindall/CC-Assignments-jatinjindal-/blob/main/JatinCC_A1(061).ipynb\" target=\"_parent\"><img src=\"https://colab.research.google.com/assets/colab-badge.svg\" alt=\"Open In Colab\"/></a>"
      ]
    },
    {
      "cell_type": "markdown",
      "source": [
        "**Assignment 1 CC By Jatin Jindal(102316061)**"
      ],
      "metadata": {
        "id": "njN3ivazXTg4"
      }
    },
    {
      "cell_type": "markdown",
      "source": [
        "Assingment 1.1: WAP to print your name three times"
      ],
      "metadata": {
        "id": "acb5Z8PhXPU2"
      }
    },
    {
      "cell_type": "code",
      "source": [
        "# Assignment 1.1: Print your name three times\n",
        "name = \"Jatin Jindal\"\n",
        "for _ in range(3):\n",
        "    print(name)\n"
      ],
      "metadata": {
        "id": "H8Jj612VXmAC"
      },
      "execution_count": null,
      "outputs": []
    },
    {
      "cell_type": "markdown",
      "source": [
        "Assingment 2.1: WAP to add three numbers and print the result.\n",
        "\n",
        "Assingment 2.2: WAP to concatinate three strings and print the result."
      ],
      "metadata": {
        "id": "NpneiZ4XaInB"
      }
    },
    {
      "cell_type": "code",
      "source": [
        "\n",
        "# Assingment 2.1: WAP to add three numbers and print the result.\n",
        "num1 = 10\n",
        "num2 = 20\n",
        "num3 = 30\n",
        "sum_result = num1 + num2 + num3\n",
        "print(f\"The sum of {num1}, {num2}, and {num3} is: {sum_result}\")\n",
        "\n",
        "# Assingment 2.2: WAP to concatinate three strings and print the result.\n",
        "str1 = \"Hello\"\n",
        "str2 = \"World\"\n",
        "str3 = \"!\"\n",
        "concat_result = str1 + str2 + str3\n",
        "print(f\"The concatenation of '{str1}', '{str2}', and '{str3}' is: {concat_result}\")"
      ],
      "metadata": {
        "id": "VStd5t8jaa4z"
      },
      "execution_count": null,
      "outputs": []
    },
    {
      "cell_type": "markdown",
      "source": [
        "Assingment 4.1: WAP to print the table of 7, 9.\n",
        "\n",
        "Assingment 4.2: WAP to print the table of n and n is given by user.\n",
        "\n",
        "Assingment 4.3: WAP to add all the numbers from 1 to n and n is given by user.\n"
      ],
      "metadata": {
        "id": "auEwNgICbsBC"
      }
    },
    {
      "cell_type": "code",
      "source": [
        "# Assignment 4.1: WAP to print the table of 7, 9\n",
        "# Table of 7\n",
        "print(\"Table of 7:\")\n",
        "for i in range(1, 11):\n",
        "    print(\"7 x\", i, \"=\", 7 * i)\n",
        "\n",
        "# Table of 9\n",
        "print(\"\\nTable of 9:\")\n",
        "for i in range(1, 11):\n",
        "    print(\"9 x\", i, \"=\", 9 * i)\n",
        "\n",
        "# Assignment 4.2: WAP to print the table of n and n is given by the user\n",
        "n = int(input(\"\\nEnter the number to print the table of: \"))\n",
        "print(f\"\\nTable of {n}:\")\n",
        "for i in range(1, 11):\n",
        "    print(f\"{n} x {i} = {n * i}\")\n",
        "\n",
        "# Assignment 4.3: WAP to add all the numbers from 1 to n and n is given by user\n",
        "n = int(input(\"\\nEnter a number n to add all the numbers from 1 to n: \"))\n",
        "sum_of_numbers = sum(range(1, n+1))\n",
        "print(f\"\\nSum of numbers from 1 to {n} is: {sum_of_numbers}\")\n"
      ],
      "metadata": {
        "colab": {
          "base_uri": "https://localhost:8080/"
        },
        "id": "E4hIWctvb4GK",
        "outputId": "7cd9b81d-900a-465c-a10a-930adb674bd9"
      },
      "execution_count": null,
      "outputs": [
        {
          "output_type": "stream",
          "name": "stdout",
          "text": [
            "Table of 7:\n",
            "7 x 1 = 7\n",
            "7 x 2 = 14\n",
            "7 x 3 = 21\n",
            "7 x 4 = 28\n",
            "7 x 5 = 35\n",
            "7 x 6 = 42\n",
            "7 x 7 = 49\n",
            "7 x 8 = 56\n",
            "7 x 9 = 63\n",
            "7 x 10 = 70\n",
            "\n",
            "Table of 9:\n",
            "9 x 1 = 9\n",
            "9 x 2 = 18\n",
            "9 x 3 = 27\n",
            "9 x 4 = 36\n",
            "9 x 5 = 45\n",
            "9 x 6 = 54\n",
            "9 x 7 = 63\n",
            "9 x 8 = 72\n",
            "9 x 9 = 81\n",
            "9 x 10 = 90\n",
            "\n",
            "Enter the number to print the table of: 6\n",
            "\n",
            "Table of 6:\n",
            "6 x 1 = 6\n",
            "6 x 2 = 12\n",
            "6 x 3 = 18\n",
            "6 x 4 = 24\n",
            "6 x 5 = 30\n",
            "6 x 6 = 36\n",
            "6 x 7 = 42\n",
            "6 x 8 = 48\n",
            "6 x 9 = 54\n",
            "6 x 10 = 60\n"
          ]
        }
      ]
    },
    {
      "cell_type": "markdown",
      "source": [
        "Assingment 5.1: WAP to find max amoung three numbers and input from user. [Try max() function]\n",
        "\n",
        "Assingment 5.2: WAP to add all numbers divisible by 7 and 9 from 1 to n and n is given by the user.\n",
        "\n",
        "Assingment 5.3: WAP to add all prime numbers from 1 to n and n is given by the user"
      ],
      "metadata": {
        "id": "PjPUiLzjcBtU"
      }
    },
    {
      "cell_type": "code",
      "source": [
        "# Assignment 5.1: WAP to find max among three numbers and input from user using max() function\n",
        "num1 = float(input(\"Enter the first number: \"))\n",
        "num2 = float(input(\"Enter the second number: \"))\n",
        "num3 = float(input(\"Enter the third number: \"))\n",
        "max_num = max(num1, num2, num3)\n",
        "print(f\"\\nThe maximum number among {num1}, {num2}, {num3} is: {max_num}\")\n",
        "\n",
        "# Assignment 5.2: WAP to add all numbers divisible by 7 and 9 from 1 to n and n is given by the user\n",
        "n = int(input(\"\\nEnter a number n to find numbers divisible by 7 and 9 from 1 to n: \"))\n",
        "sum_divisible_by_7_and_9 = 0\n",
        "for i in range(1, n + 1):\n",
        "    if i % 7 == 0 and i % 9 == 0:\n",
        "        sum_divisible_by_7_and_9 += i\n",
        "print(f\"\\nSum of numbers divisible by both 7 and 9 from 1 to {n} is: {sum_divisible_by_7_and_9}\")\n",
        "\n",
        "# Assignment 5.3: WAP to add all prime numbers from 1 to n and n is given by the user\n",
        "def is_prime(number):\n",
        "    if number <= 1:\n",
        "        return False\n",
        "    for i in range(2, int(number ** 0.5) + 1):\n",
        "        if number % i == 0:\n",
        "            return False\n",
        "    return True\n",
        "\n",
        "n = int(input(\"\\nEnter a number n to find sum of prime numbers from 1 to n: \"))\n",
        "sum_of_primes = 0\n",
        "for i in range(1, n + 1):\n",
        "    if is_prime(i):\n",
        "        sum_of_primes += i\n",
        "print(f\"\\nSum of prime numbers from 1 to {n} is: {sum_of_primes}\")\n"
      ],
      "metadata": {
        "id": "TcFfc70ScTpE"
      },
      "execution_count": null,
      "outputs": []
    },
    {
      "cell_type": "markdown",
      "source": [
        "Assingment 6.1: WAP using function that add all odd numbers from 1 to n, n is given by the user.\n",
        "\n",
        "Assingment 6.2: WAP using function that add all prime numbers from 1 to n, n given by the user."
      ],
      "metadata": {
        "id": "UlDj2BJlco6R"
      }
    },
    {
      "cell_type": "code",
      "source": [
        "# Assignment 6.1: WAP using function that adds all odd numbers from 1 to n, n is given by the user\n",
        "\n",
        "def sum_of_odd_numbers(n):\n",
        "    sum_odd = 0\n",
        "    for i in range(1, n + 1, 2):  # Iterate through odd numbers\n",
        "        sum_odd += i\n",
        "    return sum_odd\n",
        "\n",
        "n = int(input(\"Enter a number n to calculate sum of all odd numbers from 1 to n: \"))\n",
        "odd_sum = sum_of_odd_numbers(n)\n",
        "print(f\"\\nSum of all odd numbers from 1 to {n} is: {odd_sum}\")\n",
        "\n",
        "\n",
        "# Assignment 6.2: WAP using function that adds all prime numbers from 1 to n, n given by the user\n",
        "\n",
        "def is_prime(number):\n",
        "    if number <= 1:\n",
        "        return False\n",
        "    for i in range(2, int(number ** 0.5) + 1):\n",
        "        if number % i == 0:\n",
        "            return False\n",
        "    return True\n",
        "\n",
        "def sum_of_prime_numbers(n):\n",
        "    sum_prime = 0\n",
        "    for i in range(1, n + 1):\n",
        "        if is_prime(i):\n",
        "            sum_prime += i\n",
        "    return sum_prime\n",
        "\n",
        "n = int(input(\"\\nEnter a number n to calculate sum of all prime numbers from 1 to n: \"))\n",
        "prime_sum = sum_of_prime_numbers(n)\n",
        "print(f\"\\nSum of all prime numbers from 1 to {n} is: {prime_sum}\")\n"
      ],
      "metadata": {
        "id": "1CuIgNPgcyQh"
      },
      "execution_count": null,
      "outputs": []
    },
    {
      "cell_type": "markdown",
      "source": [],
      "metadata": {
        "id": "nd7ILALbcaLc"
      }
    }
  ]
}